{
 "cells": [
  {
   "cell_type": "code",
   "execution_count": 9,
   "metadata": {
    "_cell_guid": "95b26c4f-d058-403b-b823-844fe02b9877",
    "_uuid": "ffad14c0-f7e2-4860-8a40-fccb3e2532fb",
    "collapsed": false,
    "jupyter": {
     "outputs_hidden": false
    }
   },
   "outputs": [],
   "source": [
    "from datasets import load_dataset\n",
    "import numpy as np\n",
    "from sklearn.svm import SVC\n",
    "from tqdm.notebook import tqdm\n",
    "from sklearn.preprocessing import StandardScaler\n",
    "from sklearn.metrics import classification_report\n",
    "import nltk\n",
    "from nltk.corpus import stopwords\n",
    "from nltk import word_tokenize\n",
    "from nltk import pos_tag\n",
    "import pickle"
   ]
  },
  {
   "cell_type": "code",
   "execution_count": 12,
   "metadata": {
    "_cell_guid": "09fc49a9-9585-4b5b-8b01-b05ae19f4203",
    "_uuid": "4cbe8358-5969-4a13-8aba-6e06a33ae419",
    "collapsed": false,
    "jupyter": {
     "outputs_hidden": false
    }
   },
   "outputs": [
    {
     "name": "stdout",
     "output_type": "stream",
     "text": [
      "['i', 'me', 'my', 'myself', 'we', 'our', 'ours', 'ourselves', 'you', \"you're\", \"you've\", \"you'll\", \"you'd\", 'your', 'yours', 'yourself', 'yourselves', 'he', 'him', 'his', 'himself', 'she', \"she's\", 'her', 'hers', 'herself', 'it', \"it's\", 'its', 'itself', 'they', 'them', 'their', 'theirs', 'themselves', 'what', 'which', 'who', 'whom', 'this', 'that', \"that'll\", 'these', 'those', 'am', 'is', 'are', 'was', 'were', 'be', 'been', 'being', 'have', 'has', 'had', 'having', 'do', 'does', 'did', 'doing', 'a', 'an', 'the', 'and', 'but', 'if', 'or', 'because', 'as', 'until', 'while', 'of', 'at', 'by', 'for', 'with', 'about', 'against', 'between', 'into', 'through', 'during', 'before', 'after', 'above', 'below', 'to', 'from', 'up', 'down', 'in', 'out', 'on', 'off', 'over', 'under', 'again', 'further', 'then', 'once', 'here', 'there', 'when', 'where', 'why', 'how', 'all', 'any', 'both', 'each', 'few', 'more', 'most', 'other', 'some', 'such', 'no', 'nor', 'not', 'only', 'own', 'same', 'so', 'than', 'too', 'very', 's', 't', 'can', 'will', 'just', 'don', \"don't\", 'should', \"should've\", 'now', 'd', 'll', 'm', 'o', 're', 've', 'y', 'ain', 'aren', \"aren't\", 'couldn', \"couldn't\", 'didn', \"didn't\", 'doesn', \"doesn't\", 'hadn', \"hadn't\", 'hasn', \"hasn't\", 'haven', \"haven't\", 'isn', \"isn't\", 'ma', 'mightn', \"mightn't\", 'mustn', \"mustn't\", 'needn', \"needn't\", 'shan', \"shan't\", 'shouldn', \"shouldn't\", 'wasn', \"wasn't\", 'weren', \"weren't\", 'won', \"won't\", 'wouldn', \"wouldn't\"]\n"
     ]
    }
   ],
   "source": [
    "stopwords = stopwords.words('english')\n",
    "print(list(stopwords))"
   ]
  },
  {
   "cell_type": "code",
   "execution_count": 13,
   "metadata": {},
   "outputs": [],
   "source": [
    "pos_tags = [ 'CC', 'CD', 'DT', 'EX', 'FW', 'IN', 'JJ', 'JJR', 'JJS', 'LS', 'MD', 'NN', 'NNP', 'NNPS', \n",
    "            'NNS', 'NN|SYM', 'PDT', 'POS', 'PRP', 'PRP$', 'RB', 'RBR', 'RBS', 'RP', 'SYM', 'TO', 'UH', 'VB', 'VBD', \n",
    "            'VBG', 'VBN', 'VBP', 'VBZ', 'WDT', 'WP', 'WP$', 'WRB'\n",
    "           ]"
   ]
  },
  {
   "cell_type": "code",
   "execution_count": 14,
   "metadata": {
    "_cell_guid": "a865260f-1670-4adc-b036-a08274d683db",
    "_uuid": "b14b56a4-a100-4bfb-8a6b-b681dad613bb",
    "collapsed": false,
    "jupyter": {
     "outputs_hidden": false
    }
   },
   "outputs": [
    {
     "data": {
      "application/vnd.jupyter.widget-view+json": {
       "model_id": "22ffe3cf3586462ebb5f211ddbcd7a09",
       "version_major": 2,
       "version_minor": 0
      },
      "text/plain": [
       "Downloading builder script:   0%|          | 0.00/9.57k [00:00<?, ?B/s]"
      ]
     },
     "metadata": {},
     "output_type": "display_data"
    },
    {
     "data": {
      "application/vnd.jupyter.widget-view+json": {
       "model_id": "074b901457024cb2a653ec6fb8e1bcca",
       "version_major": 2,
       "version_minor": 0
      },
      "text/plain": [
       "Downloading metadata:   0%|          | 0.00/3.73k [00:00<?, ?B/s]"
      ]
     },
     "metadata": {},
     "output_type": "display_data"
    },
    {
     "data": {
      "application/vnd.jupyter.widget-view+json": {
       "model_id": "3262e046d1e24216b0da815765dd99d7",
       "version_major": 2,
       "version_minor": 0
      },
      "text/plain": [
       "Downloading readme:   0%|          | 0.00/12.3k [00:00<?, ?B/s]"
      ]
     },
     "metadata": {},
     "output_type": "display_data"
    },
    {
     "data": {
      "application/vnd.jupyter.widget-view+json": {
       "model_id": "a8d543fa5ff54e3398d35f4b62f139a3",
       "version_major": 2,
       "version_minor": 0
      },
      "text/plain": [
       "Downloading data:   0%|          | 0.00/983k [00:00<?, ?B/s]"
      ]
     },
     "metadata": {},
     "output_type": "display_data"
    },
    {
     "data": {
      "application/vnd.jupyter.widget-view+json": {
       "model_id": "896ffd185fee4781a4d743bc8529e801",
       "version_major": 2,
       "version_minor": 0
      },
      "text/plain": [
       "Generating train split:   0%|          | 0/14041 [00:00<?, ? examples/s]"
      ]
     },
     "metadata": {},
     "output_type": "display_data"
    },
    {
     "data": {
      "application/vnd.jupyter.widget-view+json": {
       "model_id": "2bab1d33944744f59244382c1fdfcc2f",
       "version_major": 2,
       "version_minor": 0
      },
      "text/plain": [
       "Generating validation split:   0%|          | 0/3250 [00:00<?, ? examples/s]"
      ]
     },
     "metadata": {},
     "output_type": "display_data"
    },
    {
     "data": {
      "application/vnd.jupyter.widget-view+json": {
       "model_id": "22b066f55bd9418784ebd551ca82cd35",
       "version_major": 2,
       "version_minor": 0
      },
      "text/plain": [
       "Generating test split:   0%|          | 0/3453 [00:00<?, ? examples/s]"
      ]
     },
     "metadata": {},
     "output_type": "display_data"
    },
    {
     "data": {
      "text/plain": [
       "DatasetDict({\n",
       "    train: Dataset({\n",
       "        features: ['id', 'tokens', 'pos_tags', 'chunk_tags', 'ner_tags'],\n",
       "        num_rows: 14041\n",
       "    })\n",
       "    validation: Dataset({\n",
       "        features: ['id', 'tokens', 'pos_tags', 'chunk_tags', 'ner_tags'],\n",
       "        num_rows: 3250\n",
       "    })\n",
       "    test: Dataset({\n",
       "        features: ['id', 'tokens', 'pos_tags', 'chunk_tags', 'ner_tags'],\n",
       "        num_rows: 3453\n",
       "    })\n",
       "})"
      ]
     },
     "execution_count": 14,
     "metadata": {},
     "output_type": "execute_result"
    }
   ],
   "source": [
    "data = load_dataset(\"conll2003\")\n",
    "data"
   ]
  },
  {
   "cell_type": "code",
   "execution_count": 15,
   "metadata": {
    "_cell_guid": "ed8f76cf-2afb-43b4-b648-4abb57d33680",
    "_uuid": "dc3b9f38-0690-4520-833a-b69f95d8b013",
    "collapsed": false,
    "jupyter": {
     "outputs_hidden": false
    }
   },
   "outputs": [],
   "source": [
    "d_train = data['train']\n",
    "d_validation = data['validation']\n",
    "d_test = data['test']"
   ]
  },
  {
   "cell_type": "code",
   "execution_count": 16,
   "metadata": {
    "_cell_guid": "d820d734-44a8-4dcd-9bbd-7a86c66b0971",
    "_uuid": "a97ee62c-a862-46b6-ae2c-847b82fb52be",
    "collapsed": false,
    "jupyter": {
     "outputs_hidden": false
    }
   },
   "outputs": [],
   "source": [
    "# Vector = [title, isStopWord, allCaps, length, isDigit, prevWord_POS_Tag(36 tags one hot encoding), next_word_POS_tag, current_word_POS_tag]\n",
    "def feature_vector(word, prev_word_pos_tag, next_word_pos_tag, current_word_pos_tag):\n",
    "    vec = np.zeros(116).astype('float32')\n",
    "    \n",
    "    # Check if word is a title\n",
    "    if(word.istitle()):\n",
    "        vec[0] = 1\n",
    "    \n",
    "    # Check if word is stopword\n",
    "    if word.lower() in stopwords:\n",
    "        vec[1] = 1\n",
    "        \n",
    "    #Check if all the letters are capital\n",
    "    if(word.isupper()):\n",
    "        vec[2] = 1\n",
    "    \n",
    "    # Length of word\n",
    "    vec[3] = len(word)\n",
    "    \n",
    "    #Check if the word is a number\n",
    "    vec[4] = word.isdigit()\n",
    "    \n",
    "    #One hot encode tag of prev word\n",
    "    idx = prev_word_pos_tag if isinstance(prev_word_pos_tag, int) and prev_word_pos_tag!=-1 else prev_word_pos_tag\n",
    "    vec[5+idx] = 1\n",
    "    \n",
    "    #One hot encode tag of next word\n",
    "    idx = next_word_pos_tag if isinstance(next_word_pos_tag, int) and current_word_pos_tag!=-1 else next_word_pos_tag\n",
    "    vec[41+idx] = 1\n",
    "    \n",
    "    #One hot encode tag of current word\n",
    "    idx = current_word_pos_tag if isinstance(current_word_pos_tag, int) else current_word_pos_tag\n",
    "    vec[77+idx] = 1\n",
    "    \n",
    "    return vec"
   ]
  },
  {
   "cell_type": "code",
   "execution_count": 19,
   "metadata": {
    "_cell_guid": "1e57ed20-9766-409f-981a-6d649f06e616",
    "_uuid": "96963c77-e8ac-4f27-8360-eed9d8a4a1e1",
    "collapsed": false,
    "jupyter": {
     "outputs_hidden": false
    }
   },
   "outputs": [],
   "source": [
    "# This function is used to make dataset with features and target label\n",
    "def create_data(data):\n",
    "    x_train = []\n",
    "    y_train = []\n",
    "    for x in data:\n",
    "        for y in range(len(x['tokens'])):\n",
    "            prev_pos = -1 if y==0 or x['pos_tags'][y-1]<10 else x['pos_tags'][y-1]\n",
    "            next_pos = -1 if y==len(x['tokens'])-1 or x['pos_tags'][y-1]<10 else x['pos_tags'][y+1]\n",
    "            current_pos = -1 if x['pos_tags'][y]<10 else x['pos_tags'][y]\n",
    "            wordVec = feature_vector(x['tokens'][y], prev_pos-10, next_pos-10, current_pos-10)\n",
    "            x_train.append(wordVec)\n",
    "            y_train.append(1 if x['ner_tags'][y]!=0 else 0)\n",
    "        \n",
    "    return x_train, y_train"
   ]
  },
  {
   "cell_type": "code",
   "execution_count": 20,
   "metadata": {
    "_cell_guid": "1ff836c9-d0c3-4836-92a1-2b91a7e8c226",
    "_uuid": "ffe08ac3-324b-4942-ab0d-c0316e147e6e",
    "collapsed": false,
    "jupyter": {
     "outputs_hidden": false
    }
   },
   "outputs": [],
   "source": [
    "x_train, y_train = create_data(d_train)"
   ]
  },
  {
   "cell_type": "code",
   "execution_count": 21,
   "metadata": {
    "_cell_guid": "b8062b7c-ee76-4ff8-b266-50ed27ea6d0b",
    "_uuid": "d13fe2a8-6379-4359-b248-4a76bd5957bd",
    "collapsed": false,
    "jupyter": {
     "outputs_hidden": false
    }
   },
   "outputs": [
    {
     "name": "stdout",
     "output_type": "stream",
     "text": [
      "203621\n",
      "203621\n"
     ]
    }
   ],
   "source": [
    "print(len(x_train))\n",
    "print(len(y_train))"
   ]
  },
  {
   "cell_type": "code",
   "execution_count": 24,
   "metadata": {
    "_cell_guid": "bd41d740-cda3-4117-83a1-80005970b1c1",
    "_uuid": "989e55a1-79a6-4bfa-b38b-56008686f6eb",
    "collapsed": false,
    "jupyter": {
     "outputs_hidden": false
    }
   },
   "outputs": [],
   "source": [
    "# Train the model\n",
    "# uncomment .fit when training\n",
    "clf = SVC(verbose=True)\n",
    "#clf.fit(x_train, y_train)"
   ]
  },
  {
   "cell_type": "code",
   "execution_count": 25,
   "metadata": {},
   "outputs": [],
   "source": [
    "# saving model\n",
    "filename = \"/home/sarvam/Documents/cs_626/Assignments/assignment_3_ner_svm/svm_ner.pkl\"\n",
    "pickle.dump(clf, open(filename, 'wb'))"
   ]
  },
  {
   "cell_type": "code",
   "execution_count": 26,
   "metadata": {},
   "outputs": [
    {
     "name": "stderr",
     "output_type": "stream",
     "text": [
      "/home/sarvam/.local/lib/python3.10/site-packages/sklearn/base.py:348: InconsistentVersionWarning: Trying to unpickle estimator SVC from version 1.2.2 when using version 1.3.2. This might lead to breaking code or invalid results. Use at your own risk. For more info please refer to:\n",
      "https://scikit-learn.org/stable/model_persistence.html#security-maintainability-limitations\n",
      "  warnings.warn(\n"
     ]
    }
   ],
   "source": [
    "clf = pickle.load(open(filename, 'rb'))"
   ]
  },
  {
   "cell_type": "code",
   "execution_count": 27,
   "metadata": {
    "_cell_guid": "d323b422-d638-4d04-9b85-8e071144bb2a",
    "_uuid": "110c0406-6d28-40db-8874-3b79aec61fb3",
    "collapsed": false,
    "jupyter": {
     "outputs_hidden": false
    }
   },
   "outputs": [],
   "source": [
    "x_val, y_val = create_data(d_validation)"
   ]
  },
  {
   "cell_type": "code",
   "execution_count": 28,
   "metadata": {
    "_cell_guid": "b1ef2fde-584a-4df2-9464-f395a1762caa",
    "_uuid": "8ed13fdf-d8d6-4ff8-8b07-5f860ab682da",
    "collapsed": false,
    "jupyter": {
     "outputs_hidden": false
    }
   },
   "outputs": [],
   "source": [
    "y_val_pred = clf.predict(x_val)"
   ]
  },
  {
   "cell_type": "code",
   "execution_count": 29,
   "metadata": {
    "_cell_guid": "c4dde03c-7ec6-43a8-9731-71b6dbbf0d61",
    "_uuid": "00fc30b2-f758-4543-bb36-44bb6b9ffd66",
    "collapsed": false,
    "jupyter": {
     "outputs_hidden": false
    }
   },
   "outputs": [
    {
     "name": "stdout",
     "output_type": "stream",
     "text": [
      "              precision    recall  f1-score   support\n",
      "\n",
      "           0       0.99      0.98      0.98     42759\n",
      "           1       0.89      0.93      0.91      8603\n",
      "\n",
      "    accuracy                           0.97     51362\n",
      "   macro avg       0.94      0.95      0.94     51362\n",
      "weighted avg       0.97      0.97      0.97     51362\n",
      "\n"
     ]
    }
   ],
   "source": [
    "print(classification_report(y_true=y_val, y_pred=y_val_pred))"
   ]
  },
  {
   "cell_type": "code",
   "execution_count": 30,
   "metadata": {},
   "outputs": [],
   "source": [
    "from sklearn.metrics import confusion_matrix, ConfusionMatrixDisplay\n",
    "import matplotlib.pyplot as plt\n",
    "conf_mat = confusion_matrix(y_val, y_val_pred)"
   ]
  },
  {
   "cell_type": "code",
   "execution_count": 31,
   "metadata": {},
   "outputs": [
    {
     "data": {
      "image/png": "[encoded data removed]",
      "text/plain": [
       "<Figure size 640x480 with 2 Axes>"
      ]
     },
     "metadata": {},
     "output_type": "display_data"
    }
   ],
   "source": [
    "cm_display = ConfusionMatrixDisplay(confusion_matrix = conf_mat, display_labels = [False, True])\n",
    "\n",
    "cm_display.plot()\n",
    "plt.show()"
   ]
  },
  {
   "cell_type": "code",
   "execution_count": 32,
   "metadata": {},
   "outputs": [],
   "source": [
    "def predict_ner(feature_vec):\n",
    "    pred = clf.predict([feature_vec])\n",
    "    return pred"
   ]
  },
  {
   "cell_type": "code",
   "execution_count": 38,
   "metadata": {
    "_cell_guid": "a66525f2-c848-4999-a440-bfe12ccae7a5",
    "_uuid": "7bf75345-50c1-4f7e-adda-6e4dcbbe99df",
    "collapsed": false,
    "jupyter": {
     "outputs_hidden": false
    }
   },
   "outputs": [
    {
     "name": "stdout",
     "output_type": "stream",
     "text": [
      "Delhi_1 is_0 the_0 capital_0 of_0 India_1 ._0 \n",
      "\n",
      "US_1 Vice_1 President_1 Kamala_1 Harris_1 ,_0 PM_1 Modi_1 talk_0 up_0 Indo-US_0 ties_0 at_0 1st_0 in-person_0 meeting_0 ._0 \n",
      "\n",
      "Covid-19_1 India_1 Live_1 News_1 :_0 National_1 Task_1 Force_1 drops_0 Ivermectin_1 ,_0 HCQ_1 drugs_0 from_0 Covid-19_1 treatment_0 protocol_0 ;_0 India_1 logs_0 31,382_0 new_0 cases_0 ._0 \n",
      "\n",
      "USA_1 Rules_1 Out_1 Adding_1 India_1 Or_1 Japan_1 To_0 Security_1 Alliance_1 With_1 Australia_1 And_1 UK_1 \n",
      "\n"
     ]
    }
   ],
   "source": [
    "input_sent = examples = [\n",
    "    \"Delhi is the capital of India.\",\n",
    "    \"US Vice President Kamala Harris, PM Modi talk up Indo-US ties at 1st in-person meeting.\",\n",
    "    \"Covid-19 India Live News: National Task Force drops Ivermectin, HCQ drugs from Covid-19 treatment protocol; India logs 31,382 new cases.\",\n",
    "    \"USA Rules Out Adding India Or Japan To Security Alliance With Australia And UK\", # all words are capitalized\n",
    "]\n",
    "\n",
    "for input_s in input_sent:\n",
    "    sent = word_tokenize(input_s)\n",
    "    sent_pos_tags = pos_tag(sent)\n",
    "\n",
    "    for idx, word in enumerate(sent):\n",
    "        prev_tag = -1 if idx==0 else sent_pos_tags[idx-1][1]\n",
    "        next_tag = -1 if idx==len(sent)-1 else sent_pos_tags[idx+1][1]\n",
    "        current_tag = sent_pos_tags[idx][1]\n",
    "        prev_idx = pos_tags.index(prev_tag) if prev_tag in pos_tags else -1\n",
    "        next_idx = pos_tags.index(next_tag) if next_tag in pos_tags else -1\n",
    "        current_idx = pos_tags.index(current_tag) if current_tag in pos_tags else -1\n",
    "        vec = feature_vector(word, prev_idx, next_idx, current_idx)\n",
    "        y_pred = predict_ner(vec)\n",
    "        print(word+\"_\"+str(y_pred[0]), end=\" \")\n",
    "    print()\n",
    "    print()"
   ]
  }
 ],
 "metadata": {
  "kaggle": {
   "accelerator": "none",
   "dataSources": [],
   "dockerImageVersionId": 30587,
   "isGpuEnabled": false,
   "isInternetEnabled": true,
   "language": "python",
   "sourceType": "notebook"
  },
  "kernelspec": {
   "display_name": "Python 3 (ipykernel)",
   "language": "python",
   "name": "python3"
  },
  "language_info": {
   "codemirror_mode": {
    "name": "ipython",
    "version": 3
   },
   "file_extension": ".py",
   "mimetype": "text/x-python",
   "name": "python",
   "nbconvert_exporter": "python",
   "pygments_lexer": "ipython3",
   "version": "3.10.12"
  }
 },
 "nbformat": 4,
 "nbformat_minor": 4
}
